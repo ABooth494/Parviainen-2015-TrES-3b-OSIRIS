{
 "metadata": {
  "name": "",
  "signature": "sha256:7224b99cd0883a7006324f64467251b8c2363e521a6403b1bcbc7d4b593c064c"
 },
 "nbformat": 3,
 "nbformat_minor": 0,
 "worksheets": [
  {
   "cells": [
    {
     "cell_type": "code",
     "collapsed": false,
     "input": [
      "def distance(b):\n",
      "    \"\"\"Distance traveled inside a unit sphere as a function of impact parameter.\n",
      "    \n",
      "    Parameters\n",
      "      b impact parameter [0,1]\n",
      "    \"\"\"\n",
      "    return 2*sqrt(1-clip(asarray(b),0.0,1.0)**2)\n",
      "\n"
     ],
     "language": "python",
     "metadata": {},
     "outputs": [],
     "prompt_number": 17
    },
    {
     "cell_type": "code",
     "collapsed": false,
     "input": [
      "distance(-1)"
     ],
     "language": "python",
     "metadata": {},
     "outputs": [
      {
       "metadata": {},
       "output_type": "pyout",
       "prompt_number": 20,
       "text": [
        "2.0"
       ]
      }
     ],
     "prompt_number": 20
    },
    {
     "cell_type": "code",
     "collapsed": false,
     "input": [],
     "language": "python",
     "metadata": {},
     "outputs": []
    }
   ],
   "metadata": {}
  }
 ]
}