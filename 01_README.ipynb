{
 "metadata": {
  "name": "",
  "signature": "sha256:af955e782af05548c6e8cb451cd78b2c43e699bfd5603d123a352d8e48d3a279"
 },
 "nbformat": 3,
 "nbformat_minor": 0,
 "worksheets": [
  {
   "cells": [
    {
     "cell_type": "heading",
     "level": 1,
     "metadata": {},
     "source": [
      "TrES-3b transmission spectroscopy with the OSIRIS@GTC"
     ]
    },
    {
     "cell_type": "heading",
     "level": 2,
     "metadata": {},
     "source": [
      "Data"
     ]
    },
    {
     "cell_type": "markdown",
     "metadata": {},
     "source": [
      "- Spectroscopic time series observed with the OSIRIS\n",
      "  - Basic reductions and generation of binned light curves by G. Nowak\n",
      "  - White light curve and a set of 16 binned passbands\n",
      "- Stellar intensity profiles\n",
      "  - 27 stellar models, 16 passbands (+ white), 72 $\\mu$\n",
      "  - Calculated using PHOENIX by L. Nortmann\n"
     ]
    },
    {
     "cell_type": "heading",
     "level": 2,
     "metadata": {},
     "source": [
      "Notes"
     ]
    },
    {
     "cell_type": "markdown",
     "metadata": {},
     "source": [
      "We decided to settle to use quadratic limb darkening model instead of the general since the latter doesn't seem to give much advantage over the simpler quadratic one."
     ]
    },
    {
     "cell_type": "heading",
     "level": 2,
     "metadata": {},
     "source": [
      "Stellar intensity profiles"
     ]
    },
    {
     "cell_type": "markdown",
     "metadata": {},
     "source": [
      "Lisa provided theoretical stellar intensity profiles for white light and the 16 passbands used by Grzegorz. The profiles must be interpolated for the NaI and KI passband sets."
     ]
    },
    {
     "cell_type": "heading",
     "level": 2,
     "metadata": {},
     "source": [
      "White light curve analysis"
     ]
    },
    {
     "cell_type": "markdown",
     "metadata": {},
     "source": [
      "- The parameter estimation is carried out using the ``fit_white.py`` script\n",
      "- Four runs:\n",
      "    - WN, unconstrained b\n",
      "    - WN, constrained b\n",
      "    - GP, unconstrained b\n",
      "    - GP, constrained b\n",
      "- The white noise runs have to be done before the GP runs, since the latter uses the ``wn`` results for initialisation.\n",
      "- Setup\n",
      "  - ``n-walkers`` = 100\n",
      "- **Note:** Currently the unconstrained and constrained impact parameter runs are on separate git branches, **this is dumb!**"
     ]
    },
    {
     "cell_type": "heading",
     "level": 2,
     "metadata": {},
     "source": [
      "Spectroscopic analysis"
     ]
    },
    {
     "cell_type": "markdown",
     "metadata": {},
     "source": [
      "- The parameter estimation is carried out using the ``fit_color.py`` script\n",
      "- Setup\n",
      "  - ``de-n-iterations`` = 1000\n",
      "  - ``n-walkers`` = 600"
     ]
    },
    {
     "cell_type": "heading",
     "level": 2,
     "metadata": {},
     "source": [
      "Result files"
     ]
    },
    {
     "cell_type": "heading",
     "level": 3,
     "metadata": {},
     "source": [
      "White light curves"
     ]
    },
    {
     "cell_type": "markdown",
     "metadata": {},
     "source": [
      " - ``TrES_3b_white_de``\n",
      " - ``TrES_3b_white_wn_mc``\n",
      " - ``TrES_3b_white_wn_ib_mc``\n",
      " - ``TrES_3b_white_gp_mc``\n",
      " - ``TrES_3b_white_gp_ib_mc`` "
     ]
    },
    {
     "cell_type": "heading",
     "level": 3,
     "metadata": {},
     "source": [
      "Spectroscopic light curves"
     ]
    },
    {
     "cell_type": "markdown",
     "metadata": {},
     "source": [
      " - **``gp_color_250_hps[hps,population,fitness]``:** optimised GP hyperparameters for the 250 nm binned spectrophotometry. Contains also the DE population and the corresponding fitness values.\n",
      " - **``TrES_3b_color_wn_mc``:** white noise MCMC chains with uninformative prior on $b$.\n",
      " - **``TrES_3b_color_gp_mc``:** red noise MCMC chains with unfinformative prior on $b$."
     ]
    },
    {
     "cell_type": "code",
     "collapsed": false,
     "input": [],
     "language": "python",
     "metadata": {},
     "outputs": []
    }
   ],
   "metadata": {}
  }
 ]
}