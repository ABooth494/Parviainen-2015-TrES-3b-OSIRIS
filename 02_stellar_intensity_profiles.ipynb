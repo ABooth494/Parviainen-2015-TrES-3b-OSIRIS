{
 "metadata": {
  "name": "",
  "signature": "sha256:863f67ad448f38837954229fe298f78f669f9013cfdd4d22b28315d2cc7b3c5d"
 },
 "nbformat": 3,
 "nbformat_minor": 0,
 "worksheets": [
  {
   "cells": [
    {
     "cell_type": "heading",
     "level": 1,
     "metadata": {},
     "source": [
      "Stellar intensity profiles"
     ]
    },
    {
     "cell_type": "markdown",
     "metadata": {},
     "source": [
      "Lisa calculated stellar intensity profiles for 27 sets of stellar parameters, 16 passbands (+white light), and 75 values for $\\mu$ using the PHOENIX code. The profiles are stored as ``fits`` files in ``data/phoenix/res*.fits``, and the $\\mu$ array is stored in ``data/phoenix/mu.fits``. \n",
      "\n",
      "The first thing to do is to load all the data into arrays:\n",
      "- **``mu``** and **``z``**, shape=``[n_mu]``\n",
      "- white light intensities, **``iw``**, shape=``[n_models, n_mu]``\n",
      "- spectroscopic intensities, **``ic``**, shape=``[n_models, n_mu, n_passband]``\n",
      "\n",
      "Here $\\mu = \\cos \\gamma = \\sqrt{1-z^2}$, where $\\gamma$ is the foreshortening angle, and $z = \\sqrt{1-\\mu^2}$ is the normalised distance from the centre of the stellar disk.\n",
      "\n",
      "Next, we calculate the median limb darkening profiles with uncertanties for each passband to be used in the MCMC parameter estimation. The profiles are stored in ``npz`` files ``data/tres_3_limb_darkening_X.npz``, where ``X`` = ``w`` for the white light lc, ``c`` for the basic spectroscopic binning, and something else for the special binnings."
     ]
    },
    {
     "cell_type": "code",
     "collapsed": false,
     "input": [
      "%pylab inline\n",
      "import itertools as it\n",
      "import pyfits as pf\n",
      "from glob import glob\n",
      "from scipy.interpolate import interp1d"
     ],
     "language": "python",
     "metadata": {},
     "outputs": [
      {
       "output_type": "stream",
       "stream": "stdout",
       "text": [
        "Populating the interactive namespace from numpy and matplotlib\n"
       ]
      }
     ],
     "prompt_number": 1
    },
    {
     "cell_type": "code",
     "collapsed": false,
     "input": [
      "normalize = lambda d:d.T/d[:,-1]\n",
      "\n",
      "mu_file  = 'data/phoenix/mu.fits'\n",
      "pb_file  = 'data/phoenix/passbands.npz'\n",
      "si_files = sorted(glob('data/phoenix/res*.fits'))\n",
      "si_data  = array([normalize(pf.getdata(f)) for f in si_files])\n",
      "\n",
      "mu = pf.getdata(mu_file, 0)                ## cos(foreshortening angles)\n",
      "z  = sqrt(1-mu**2)                         ## Normalised distances from the stellar centre\n",
      "iw = si_data[:,:,0]                        ## White-light intensities\n",
      "ic = si_data[:,:,1:]                       ## Per-passband intensities\n",
      "pb = load(pb_file)['passbands'][:,1]       ## Passband centres\n",
      "\n",
      "n_models = ic.shape[0]\n",
      "n_pb = ic.shape[2]\n",
      "n_mu = mu.size"
     ],
     "language": "python",
     "metadata": {},
     "outputs": [],
     "prompt_number": 2
    },
    {
     "cell_type": "code",
     "collapsed": false,
     "input": [
      "plot(z,ic.mean(0)[:,0], 'k')\n",
      "plot(z,ic.mean(0)[:,15])"
     ],
     "language": "python",
     "metadata": {},
     "outputs": [
      {
       "metadata": {},
       "output_type": "pyout",
       "prompt_number": 7,
       "text": [
        "[<matplotlib.lines.Line2D at 0x7fb9041ee710>]"
       ]
      },
      {
       "metadata": {},
       "output_type": "display_data",
       "png": "[encoded data removed]",
       "text": [
        "<matplotlib.figure.Figure at 0x7fb9041ee290>"
       ]
      }
     ],
     "prompt_number": 7
    },
    {
     "cell_type": "heading",
     "level": 2,
     "metadata": {},
     "source": [
      "White light limb darkening"
     ]
    },
    {
     "cell_type": "markdown",
     "metadata": {},
     "source": [
      "Firts, we calculate the median white limb darkening profile over the 27 stellar models **``mw``** and its uncertainties **``ew``** based on the 50th, 16th and 84th percentiles. These are now 1D arrays with the shape ``[n_mu]``."
     ]
    },
    {
     "cell_type": "code",
     "collapsed": false,
     "input": [
      "pw = array(percentile(iw, [50,16,84], 0)) # White light ld percentiles\n",
      "mw = pw[0,:]                              # White light ld medians\n",
      "ew = mean(abs(pw[1:,:]-mw),0)             # White light ld uncertainties\n",
      "\n",
      "savez('data/tres_3_limb_darkening_w', im=mw, ie=ew, mu=mu)"
     ],
     "language": "python",
     "metadata": {},
     "outputs": [],
     "prompt_number": 3
    },
    {
     "cell_type": "heading",
     "level": 2,
     "metadata": {},
     "source": [
      "Coloured limb darkening"
     ]
    },
    {
     "cell_type": "heading",
     "level": 3,
     "metadata": {},
     "source": [
      "Basic spectral binning"
     ]
    },
    {
     "cell_type": "markdown",
     "metadata": {},
     "source": [
      "Next, we do the same for the basic spectrum binning dataset, where the limb darkening has been calculated for the spectral bins. The median profiles are in **``mc``**, and their uncertainties in **``ec``**, where both arrays are 2D with a shape ``[n_mu, n_pb]``."
     ]
    },
    {
     "cell_type": "code",
     "collapsed": false,
     "input": [
      "pc = array(percentile(ic, [50,16,84], 0))  # Basic binning ld percentiles\n",
      "mc = pc[0,:]                               # Basic binning ld medians\n",
      "ec = mean(abs(pc[1:,:]-mc),0)              # Basic binning ld uncertainties\n",
      "\n",
      "savez('data/tres_3_limb_darkening_c', im=mc, ie=ec, mu=mu)"
     ],
     "language": "python",
     "metadata": {},
     "outputs": [],
     "prompt_number": 4
    },
    {
     "cell_type": "heading",
     "level": 3,
     "metadata": {},
     "source": [
      "Special passband sets"
     ]
    },
    {
     "cell_type": "markdown",
     "metadata": {},
     "source": [
      "Finally, we need to interpolate the limb darkening profiles for any special passband sets, such as the KI and NaI sets produced by Gregorz. Here the median and uncertainty arrays are again 2D of shape ``[n_mu, n_pb]``."
     ]
    },
    {
     "cell_type": "code",
     "collapsed": false,
     "input": [
      "iKI   = zeros((n_models, n_mu, pbc_KI.size))\n",
      "iNaI  = zeros((n_models, n_mu, pbc_NaI.size))\n",
      "iall  = zeros((n_models, n_mu, pbc_all.size))"
     ],
     "language": "python",
     "metadata": {},
     "outputs": [
      {
       "ename": "NameError",
       "evalue": "name 'pbc_KI' is not defined",
       "output_type": "pyerr",
       "traceback": [
        "\u001b[0;31m---------------------------------------------------------------------------\u001b[0m\n\u001b[0;31mNameError\u001b[0m                                 Traceback (most recent call last)",
        "\u001b[0;32m<ipython-input-5-3b9af6b7322b>\u001b[0m in \u001b[0;36m<module>\u001b[0;34m()\u001b[0m\n\u001b[0;32m----> 1\u001b[0;31m \u001b[0miKI\u001b[0m   \u001b[0;34m=\u001b[0m \u001b[0mzeros\u001b[0m\u001b[0;34m(\u001b[0m\u001b[0;34m(\u001b[0m\u001b[0mn_models\u001b[0m\u001b[0;34m,\u001b[0m \u001b[0mn_mu\u001b[0m\u001b[0;34m,\u001b[0m \u001b[0mpbc_KI\u001b[0m\u001b[0;34m.\u001b[0m\u001b[0msize\u001b[0m\u001b[0;34m)\u001b[0m\u001b[0;34m)\u001b[0m\u001b[0;34m\u001b[0m\u001b[0m\n\u001b[0m\u001b[1;32m      2\u001b[0m \u001b[0miNaI\u001b[0m  \u001b[0;34m=\u001b[0m \u001b[0mzeros\u001b[0m\u001b[0;34m(\u001b[0m\u001b[0;34m(\u001b[0m\u001b[0mn_models\u001b[0m\u001b[0;34m,\u001b[0m \u001b[0mn_mu\u001b[0m\u001b[0;34m,\u001b[0m \u001b[0mpbc_NaI\u001b[0m\u001b[0;34m.\u001b[0m\u001b[0msize\u001b[0m\u001b[0;34m)\u001b[0m\u001b[0;34m)\u001b[0m\u001b[0;34m\u001b[0m\u001b[0m\n\u001b[1;32m      3\u001b[0m \u001b[0miall\u001b[0m  \u001b[0;34m=\u001b[0m \u001b[0mzeros\u001b[0m\u001b[0;34m(\u001b[0m\u001b[0;34m(\u001b[0m\u001b[0mn_models\u001b[0m\u001b[0;34m,\u001b[0m \u001b[0mn_mu\u001b[0m\u001b[0;34m,\u001b[0m \u001b[0mpbc_all\u001b[0m\u001b[0;34m.\u001b[0m\u001b[0msize\u001b[0m\u001b[0;34m)\u001b[0m\u001b[0;34m)\u001b[0m\u001b[0;34m\u001b[0m\u001b[0m\n",
        "\u001b[0;31mNameError\u001b[0m: name 'pbc_KI' is not defined"
       ]
      }
     ],
     "prompt_number": 5
    },
    {
     "cell_type": "code",
     "collapsed": false,
     "input": [
      "for imod,imu in it.product(range(n_models),range(n_mu)):\n",
      "    ip = interp1d(pbc_ld, ic[imod,imu,:], kind='linear')\n",
      "    iKI[imod,imu,:] = ip(pbc_KI)\n",
      "    iNaI[imod,imu,:] = ip(pbc_NaI)\n",
      "    iall[imod,imu,:] = ip(pbc_all)"
     ],
     "language": "python",
     "metadata": {},
     "outputs": [],
     "prompt_number": 13
    },
    {
     "cell_type": "code",
     "collapsed": false,
     "input": [
      "pKI = array(percentile(iKI, [50,16,84], 0))    # KI intensity percentiles\n",
      "mKI = pKI[0,:]                                 # KI intensity medians\n",
      "eKI = mean(abs(pKI[1:,:]-mKI),0)               # KI intensity uncertainties\n",
      "\n",
      "pNaI = array(percentile(iNaI, [50,16,84], 0))  # NaI intensity percentiles\n",
      "mNaI = pNaI[0,:]                               # NaI intensity medians\n",
      "eNaI = mean(abs(pNaI[1:,:]-mNaI),0)            # NaI intensity uncertainties\n",
      "\n",
      "pall = array(percentile(iall, [50,16,84], 0))  # Combined intensity percentiles\n",
      "mall = pall[0,:]                               # Combined intensity medians\n",
      "eall = mean(abs(pall[1:,:]-mall),0)            # Combined intensity uncertainties"
     ],
     "language": "python",
     "metadata": {},
     "outputs": [],
     "prompt_number": 14
    },
    {
     "cell_type": "code",
     "collapsed": false,
     "input": [
      "savez('data/tres_3_limb_darkening_KI',     im=mKI,   ie=eKI,   mu=mu)\n",
      "savez('data/tres_3_limb_darkening_NaI',    im=mNaI,  ie=eNaI,  mu=mu)\n",
      "savez('data/tres_3_limb_darkening_NaIKI',  im=mall,  ie=eall,  mu=mu)"
     ],
     "language": "python",
     "metadata": {},
     "outputs": [],
     "prompt_number": 15
    }
   ],
   "metadata": {}
  }
 ]
}