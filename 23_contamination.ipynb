{
 "metadata": {
  "name": "",
  "signature": "sha256:24862205eeb3873153727711af599f99191ee6dc00a0ea94493037822fe0b966"
 },
 "nbformat": 3,
 "nbformat_minor": 0,
 "worksheets": [
  {
   "cells": [
    {
     "cell_type": "heading",
     "level": 1,
     "metadata": {},
     "source": [
      "Calculate the contribution from the contaminant"
     ]
    },
    {
     "cell_type": "markdown",
     "metadata": {},
     "source": [
      "The aperture contains a faint background star, here we calculate how much it contributes to the total flux."
     ]
    },
    {
     "cell_type": "code",
     "collapsed": false,
     "input": [
      "import os.path\n",
      "import pyfits as pf\n",
      "from glob import glob\n",
      "from os.path import join, basename\n",
      "from scipy.ndimage import median_filter as mf\n",
      "from scipy.optimize import fmin\n",
      "import seaborn as sb\n",
      "from pyfc import psf_g1d\n",
      "\n",
      "from core import *\n",
      "\n",
      "datadir = '../../../data/GTC9-14A/OB0008/'"
     ],
     "language": "python",
     "metadata": {},
     "outputs": [],
     "prompt_number": 3
    },
    {
     "cell_type": "code",
     "collapsed": false,
     "input": [
      "def multig_model(pv, size, ncomp=3, return_comps=False):\n",
      "    m = zeros([ncomp, size])\n",
      "    for i in range(ncomp):\n",
      "        m[i,:] = psf_g1d(pv[0], pv[1+i*2], pv[2+i*2], size)\n",
      "    \n",
      "    if return_comps:\n",
      "        return m\n",
      "    else:\n",
      "        return m.sum(0)\n",
      "        \n",
      "def model(pv, size, nct=3, ncc=2, return_comps=False):\n",
      "    m_target = multig_model(pv[:1+2*nct], size, nct)\n",
      "    m_contam = multig_model(pv[1+2*nct:], size, ncc)\n",
      "    \n",
      "    if return_comps:\n",
      "        return m_target, m_contam\n",
      "    else:\n",
      "        return m_target+m_contam \n",
      "    \n",
      "def integrate_mg(pv):\n",
      "    \"\"\"Returns the integral of n Gaussians with an amplitude A and fwhm F.\"\"\"\n",
      "    return sum(pv[0::2]*pv[1::2]/2.355*sqrt(2*pi))"
     ],
     "language": "python",
     "metadata": {},
     "outputs": [],
     "prompt_number": 4
    },
    {
     "cell_type": "code",
     "collapsed": false,
     "input": [
      "files = sorted(glob(join(datadir,'object','*.fits')))[3:]\n",
      "gain = pf.getval(files[0], 'gain', ext=0)"
     ],
     "language": "python",
     "metadata": {},
     "outputs": [],
     "prompt_number": 5
    },
    {
     "cell_type": "code",
     "collapsed": false,
     "input": [
      "f  = pf.getdata(files[3],2) * gain\n",
      "fl = f[500:700:,400:450].mean(0)\n",
      "sk = f[500:700:,445:475].mean()\n",
      "lfl = log10(fl-sk)"
     ],
     "language": "python",
     "metadata": {},
     "outputs": [],
     "prompt_number": 6
    },
    {
     "cell_type": "code",
     "collapsed": false,
     "input": [
      "semilogy(fl-sk)\n",
      "ylim(10,3.2e4);"
     ],
     "language": "python",
     "metadata": {},
     "outputs": [
      {
       "metadata": {},
       "output_type": "display_data",
       "png": "[encoded data removed]",
       "text": [
        "<matplotlib.figure.Figure at 0x7f1433243150>"
       ]
      }
     ],
     "prompt_number": 178
    },
    {
     "cell_type": "code",
     "collapsed": false,
     "input": [
      "res = fmin(lambda pv: ((lfl-log10(model(pv, fl.size,4,3,False)))**2).sum(), \n",
      "           [15.5, 2e4, 4.2,  5e3, 7,  1e3, 15,  1e2, 40,   \n",
      "            31, 2e2,5, 5e1, 10, 5, 15], maxfun=20000, maxiter=20000)"
     ],
     "language": "python",
     "metadata": {},
     "outputs": [
      {
       "output_type": "stream",
       "stream": "stdout",
       "text": [
        "Optimization terminated successfully.\n",
        "         Current function value: 0.029213\n",
        "         Iterations: 13883\n",
        "         Function evaluations: 18132\n"
       ]
      }
     ],
     "prompt_number": 189
    },
    {
     "cell_type": "code",
     "collapsed": false,
     "input": [
      "mt,mc = model(res, fl.size, 4, 3, True)"
     ],
     "language": "python",
     "metadata": {},
     "outputs": [],
     "prompt_number": 196
    },
    {
     "cell_type": "code",
     "collapsed": false,
     "input": [
      "x = arange(400,400+fl.size)\n",
      "with sb.axes_style('ticks'):\n",
      "    fig,ax = subplots(1,1,figsize=(AAOCW,0.6*AAOCW))\n",
      "    ax.plot(x,lfl, '-', lw=5, c=c_ob)\n",
      "    ax.plot(x,log10(mt+mc), 'w-', lw=1.5)\n",
      "    ax.plot(x,log10(mt), '--', c=c_bo, alpha=0.5, lw=1.5)\n",
      "    ax.plot(x,log10(mc), '--', c=c_bo, alpha=0.5, lw=1.5)\n",
      "setp(ax, ylim=(0.5,4.6), ylabel='Log$_{10}$ flux', xlabel='Pixel')\n",
      "sb.despine(fig)\n",
      "fig.tight_layout()\n",
      "fig.savefig('plots/contamination_model.pdf')"
     ],
     "language": "python",
     "metadata": {},
     "outputs": [
      {
       "metadata": {},
       "output_type": "display_data",
       "png": "[encoded data removed]",
       "text": [
        "<matplotlib.figure.Figure at 0x7f1434d59410>"
       ]
      }
     ],
     "prompt_number": 248
    },
    {
     "cell_type": "code",
     "collapsed": false,
     "input": [
      "I1 = integrate_mg(res[1:1+2*4])\n",
      "I2 = integrate_mg(res[2+2*4:])\n",
      "print I2/(I1+I2)"
     ],
     "language": "python",
     "metadata": {},
     "outputs": [
      {
       "output_type": "stream",
       "stream": "stdout",
       "text": [
        "0.00985461331363\n"
       ]
      }
     ],
     "prompt_number": 247
    }
   ],
   "metadata": {}
  }
 ]
}