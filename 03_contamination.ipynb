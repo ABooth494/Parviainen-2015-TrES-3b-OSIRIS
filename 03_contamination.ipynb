{
 "cells": [
  {
   "cell_type": "markdown",
   "metadata": {},
   "source": [
    "# TrES-3b transmission spectroscopy: contamination\n",
    "\n",
    "*<a href=\"mailto:hannu.parviainen@physics.ox.ac.uk\">Hannu Parviainen</a>, University of Oxford*\n",
    "\n",
    "***The aperture used to calculate the TrES-3 spectra contains a faint background star, here we calculate how much it contributes to the total flux.***\n",
    "\n",
    "This notebook is a part in a series of notebooks working as an appendix to Parviainen et al. (2015, submitted), aiming to make the analysis presented in the paper easily reproductable. The results and the figures presented in the paper can be reproduced by following these notebooks in the numbered order.\n",
    "\n",
    "*Dependencies:* See `000_README.ipynb` for the list of required Python packages, and how to install them."
   ]
  },
  {
   "cell_type": "code",
   "execution_count": 10,
   "metadata": {
    "collapsed": false
   },
   "outputs": [
    {
     "name": "stdout",
     "output_type": "stream",
     "text": [
      "Populating the interactive namespace from numpy and matplotlib\n"
     ]
    },
    {
     "name": "stderr",
     "output_type": "stream",
     "text": [
      "WARNING: pylab import has clobbered these variables: ['rc', 'fmin']\n",
      "`%matplotlib` prevents importing * from pylab and numpy\n"
     ]
    }
   ],
   "source": [
    "%pylab inline"
   ]
  },
  {
   "cell_type": "code",
   "execution_count": 11,
   "metadata": {
    "collapsed": false
   },
   "outputs": [],
   "source": [
    "from glob import glob\n",
    "from scipy.ndimage import median_filter as mf\n",
    "from scipy.optimize import fmin\n",
    "\n",
    "from pycntr import psf_g1d\n",
    "from core import *"
   ]
  },
  {
   "cell_type": "code",
   "execution_count": 12,
   "metadata": {
    "collapsed": false
   },
   "outputs": [],
   "source": [
    "def multig_model(pv, size, ncomp=3, return_comps=False):\n",
    "    m = zeros([ncomp, size])\n",
    "    for i in range(ncomp):\n",
    "        m[i,:] = psf_g1d(pv[0], pv[1+i*2], pv[2+i*2], size)\n",
    "    \n",
    "    if return_comps:\n",
    "        return m\n",
    "    else:\n",
    "        return m.sum(0)\n",
    "        \n",
    "def model(pv, size, nct=3, ncc=2, return_comps=False):\n",
    "    m_target = multig_model(pv[:1+2*nct], size, nct)\n",
    "    m_contam = multig_model(pv[1+2*nct:], size, ncc)\n",
    "    \n",
    "    if return_comps:\n",
    "        return m_target, m_contam\n",
    "    else:\n",
    "        return m_target+m_contam \n",
    "    \n",
    "def integrate_mg(pv):\n",
    "    \"\"\"Returns the integral of n Gaussians with an amplitude A and fwhm F.\"\"\"\n",
    "    return sum(pv[0::2]*pv[1::2]/2.355*sqrt(2*pi))"
   ]
  },
  {
   "cell_type": "code",
   "execution_count": 13,
   "metadata": {
    "collapsed": false
   },
   "outputs": [],
   "source": [
    "ffile = join(dir_data,'example_gtc_object_frame.fits')\n",
    "gain  = pf.getval(ffile, 'gain', ext=0)\n",
    "frame = pf.getdata(ffile,2) * gain\n",
    "flux  = frame[500:700:,400:450].mean(0)\n",
    "sky   = frame[500:700:,445:475].mean()\n",
    "logflux = log10(flux-sky)"
   ]
  },
  {
   "cell_type": "code",
   "execution_count": 19,
   "metadata": {
    "collapsed": false
   },
   "outputs": [
    {
     "data": {
      "image/png": "[encoded data removed]",
      "text/plain": [
       "<matplotlib.figure.Figure at 0x10a1ae410>"
      ]
     },
     "metadata": {},
     "output_type": "display_data"
    }
   ],
   "source": [
    "semilogy(flux-sky)\n",
    "ylim(5,3.2e4);"
   ]
  },
  {
   "cell_type": "code",
   "execution_count": 15,
   "metadata": {
    "collapsed": false
   },
   "outputs": [
    {
     "name": "stdout",
     "output_type": "stream",
     "text": [
      "Optimization terminated successfully.\n",
      "         Current function value: 0.061463\n",
      "         Iterations: 15568\n",
      "         Function evaluations: 20272\n"
     ]
    }
   ],
   "source": [
    "res = fmin(lambda pv: ((logflux-log10(model(pv, flux.size, 4, 3, False)))**2).sum(), \n",
    "           [15.5, 2e4, 4.2,  5e3, 7,  1e3, 15,  1e2, 40,   \n",
    "            31, 2e2,5, 5e1, 10, 5, 15], maxfun=40000, maxiter=40000)"
   ]
  },
  {
   "cell_type": "code",
   "execution_count": 16,
   "metadata": {
    "collapsed": false
   },
   "outputs": [],
   "source": [
    "mt, mc = model(res, flux.size, 4, 3, True)"
   ]
  },
  {
   "cell_type": "code",
   "execution_count": 17,
   "metadata": {
    "collapsed": false
   },
   "outputs": [
    {
     "data": {
      "image/png": "[encoded data removed]",
      "text/plain": [
       "<matplotlib.figure.Figure at 0x109ef22d0>"
      ]
     },
     "metadata": {},
     "output_type": "display_data"
    }
   ],
   "source": [
    "x = arange(400,400+flux.size)\n",
    "with sb.plotting_context('paper', rc=rc_paper):\n",
    "    with sb.axes_style('ticks'):\n",
    "        fig,ax = subplots(1,1,figsize=(AAOCW,0.6*AAOCW))\n",
    "        ax.plot(x,logflux, '-', lw=5, c=c_ob)\n",
    "        ax.plot(x,log10(mt+mc), 'w-', lw=1.5)\n",
    "        ax.plot(x,log10(mt), '--', c=c_bo, alpha=0.5, lw=1.5)\n",
    "        ax.plot(x,log10(mc), '--', c=c_bo, alpha=0.5, lw=1.5)\n",
    "    setp(ax, ylim=(0.5,4.6), ylabel='Log$_{10}$ flux', xlabel='Pixel')\n",
    "    sb.despine(fig)\n",
    "    fig.tight_layout()\n",
    "    fig.savefig('plots/pub_contamination.pdf')"
   ]
  },
  {
   "cell_type": "code",
   "execution_count": 18,
   "metadata": {
    "collapsed": false
   },
   "outputs": [
    {
     "name": "stdout",
     "output_type": "stream",
     "text": [
      "0.00982409072483\n"
     ]
    }
   ],
   "source": [
    "I1 = integrate_mg(res[1:1+2*4])\n",
    "I2 = integrate_mg(res[2+2*4:])\n",
    "print I2/(I1+I2)"
   ]
  },
  {
   "cell_type": "markdown",
   "metadata": {},
   "source": [
    "---\n",
    "<center> &copy; 2015 <a href=\"mailto:hannu.parviainen@physics.ox.ac.uk\">Hannu Parviainen</a></center>"
   ]
  }
 ],
 "metadata": {
  "kernelspec": {
   "display_name": "Python 2",
   "language": "python",
   "name": "python2"
  },
  "language_info": {
   "codemirror_mode": {
    "name": "ipython",
    "version": 2
   },
   "file_extension": ".py",
   "mimetype": "text/x-python",
   "name": "python",
   "nbconvert_exporter": "python",
   "pygments_lexer": "ipython2",
   "version": "2.7.6"
  }
 },
 "nbformat": 4,
 "nbformat_minor": 0
}
